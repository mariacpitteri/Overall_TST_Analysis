{
 "cells": [
  {
   "cell_type": "code",
   "execution_count": 1,
   "id": "77e0724c",
   "metadata": {},
   "outputs": [],
   "source": [
    "import pandas as pd\n",
    "import glob\n",
    "import os\n",
    "\n",
    "from functions import *"
   ]
  },
  {
   "cell_type": "markdown",
   "id": "5c5e1a8c",
   "metadata": {},
   "source": [
    "This notebook is used to perform the analysis for our online study. The study consists of three parts:\n",
    "\n",
    "- Demographic questionnaire – includes questions about age, gender, etc.\n",
    "\n",
    "- Computerised task/game – gameified two step task\n",
    "\n",
    "- Mood and emotion questionnaire – assesses participants' emotional states \n",
    "\n",
    "Each part is hosted as a separate modular project on the Pavlovia server to allow for independent data collection. Participants can be recognised by the presence of Prolific IDs in the results csv.\n",
    "\n",
    "The aim of this notebook is to visualise relationships between performance in the two-step task and mental-health/cognitive dimensions."
   ]
  },
  {
   "cell_type": "code",
   "execution_count": 2,
   "id": "91d9aa79",
   "metadata": {},
   "outputs": [],
   "source": [
    "# Load necessary files\n",
    "\n",
    "# Load demographic results\n",
    "demographic_dfs = load_data(\"Demographics_Results\")\n",
    "\n",
    "# Load TST results\n",
    "tst_dfs = load_data(\"Two_Step_Task_Results\")\n",
    "\n",
    "# Load questionnaire results\n",
    "questionnaires_dfs = load_data(\"Questionnaire_Results\")\n"
   ]
  },
  {
   "cell_type": "code",
   "execution_count": 3,
   "id": "a3e42697",
   "metadata": {},
   "outputs": [
    {
     "data": {
      "application/vnd.microsoft.datawrangler.viewer.v0+json": {
       "columns": [
        {
         "name": "index",
         "rawType": "int64",
         "type": "integer"
        },
        {
         "name": "participant_id",
         "rawType": "object",
         "type": "string"
        },
        {
         "name": "ocir_overall",
         "rawType": "int64",
         "type": "integer"
        },
        {
         "name": "alcohol_overall",
         "rawType": "int64",
         "type": "integer"
        },
        {
         "name": "social_overall",
         "rawType": "int64",
         "type": "integer"
        },
        {
         "name": "bis_overall",
         "rawType": "int64",
         "type": "integer"
        },
        {
         "name": "neutral_overall",
         "rawType": "int64",
         "type": "integer"
        },
        {
         "name": "depress_overall",
         "rawType": "int64",
         "type": "integer"
        },
        {
         "name": "eat_overall",
         "rawType": "int64",
         "type": "integer"
        },
        {
         "name": "schizo_overall",
         "rawType": "int64",
         "type": "integer"
        },
        {
         "name": "iq_overall",
         "rawType": "int64",
         "type": "integer"
        },
        {
         "name": "anxiety_overall",
         "rawType": "int64",
         "type": "integer"
        },
        {
         "name": "apathy_overall",
         "rawType": "int64",
         "type": "integer"
        },
        {
         "name": "catch_response",
         "rawType": "object",
         "type": "string"
        },
        {
         "name": "catch_infrequent_response",
         "rawType": "object",
         "type": "string"
        },
        {
         "name": "study",
         "rawType": "object",
         "type": "string"
        }
       ],
       "ref": "d86880b0-cdc5-4865-9d34-001715cb75a0",
       "rows": [
        [
         "0",
         "572bcdbb34b25a0010ddd977",
         "13",
         "11",
         "39",
         "47",
         "40",
         "45",
         "6",
         "11",
         "10",
         "53",
         "62",
         "Pass",
         "Pass",
         "pilot"
        ],
        [
         "1",
         "66d31a1b0515fe747830bab9",
         "23",
         "12",
         "50",
         "70",
         "32",
         "39",
         "4",
         "13",
         "9",
         "48",
         "60",
         "Pass",
         "Pass",
         "pilot"
        ]
       ],
       "shape": {
        "columns": 15,
        "rows": 2
       }
      },
      "text/html": [
       "<div>\n",
       "<style scoped>\n",
       "    .dataframe tbody tr th:only-of-type {\n",
       "        vertical-align: middle;\n",
       "    }\n",
       "\n",
       "    .dataframe tbody tr th {\n",
       "        vertical-align: top;\n",
       "    }\n",
       "\n",
       "    .dataframe thead th {\n",
       "        text-align: right;\n",
       "    }\n",
       "</style>\n",
       "<table border=\"1\" class=\"dataframe\">\n",
       "  <thead>\n",
       "    <tr style=\"text-align: right;\">\n",
       "      <th></th>\n",
       "      <th>participant_id</th>\n",
       "      <th>ocir_overall</th>\n",
       "      <th>alcohol_overall</th>\n",
       "      <th>social_overall</th>\n",
       "      <th>bis_overall</th>\n",
       "      <th>neutral_overall</th>\n",
       "      <th>depress_overall</th>\n",
       "      <th>eat_overall</th>\n",
       "      <th>schizo_overall</th>\n",
       "      <th>iq_overall</th>\n",
       "      <th>anxiety_overall</th>\n",
       "      <th>apathy_overall</th>\n",
       "      <th>catch_response</th>\n",
       "      <th>catch_infrequent_response</th>\n",
       "      <th>study</th>\n",
       "    </tr>\n",
       "  </thead>\n",
       "  <tbody>\n",
       "    <tr>\n",
       "      <th>0</th>\n",
       "      <td>572bcdbb34b25a0010ddd977</td>\n",
       "      <td>13</td>\n",
       "      <td>11</td>\n",
       "      <td>39</td>\n",
       "      <td>47</td>\n",
       "      <td>40</td>\n",
       "      <td>45</td>\n",
       "      <td>6</td>\n",
       "      <td>11</td>\n",
       "      <td>10</td>\n",
       "      <td>53</td>\n",
       "      <td>62</td>\n",
       "      <td>Pass</td>\n",
       "      <td>Pass</td>\n",
       "      <td>pilot</td>\n",
       "    </tr>\n",
       "    <tr>\n",
       "      <th>1</th>\n",
       "      <td>66d31a1b0515fe747830bab9</td>\n",
       "      <td>23</td>\n",
       "      <td>12</td>\n",
       "      <td>50</td>\n",
       "      <td>70</td>\n",
       "      <td>32</td>\n",
       "      <td>39</td>\n",
       "      <td>4</td>\n",
       "      <td>13</td>\n",
       "      <td>9</td>\n",
       "      <td>48</td>\n",
       "      <td>60</td>\n",
       "      <td>Pass</td>\n",
       "      <td>Pass</td>\n",
       "      <td>pilot</td>\n",
       "    </tr>\n",
       "  </tbody>\n",
       "</table>\n",
       "</div>"
      ],
      "text/plain": [
       "             participant_id  ocir_overall  alcohol_overall  social_overall  \\\n",
       "0  572bcdbb34b25a0010ddd977            13               11              39   \n",
       "1  66d31a1b0515fe747830bab9            23               12              50   \n",
       "\n",
       "   bis_overall  neutral_overall  depress_overall  eat_overall  schizo_overall  \\\n",
       "0           47               40               45            6              11   \n",
       "1           70               32               39            4              13   \n",
       "\n",
       "   iq_overall  anxiety_overall  apathy_overall catch_response  \\\n",
       "0          10               53              62           Pass   \n",
       "1           9               48              60           Pass   \n",
       "\n",
       "  catch_infrequent_response  study  \n",
       "0                      Pass  pilot  \n",
       "1                      Pass  pilot  "
      ]
     },
     "execution_count": 3,
     "metadata": {},
     "output_type": "execute_result"
    }
   ],
   "source": [
    "questionnaires_dfs['mh_overall_scores_pilot_09_07_25']"
   ]
  },
  {
   "cell_type": "code",
   "execution_count": 4,
   "id": "227990c4",
   "metadata": {},
   "outputs": [
    {
     "data": {
      "application/vnd.microsoft.datawrangler.viewer.v0+json": {
       "columns": [
        {
         "name": "index",
         "rawType": "int64",
         "type": "integer"
        },
        {
         "name": "age",
         "rawType": "int64",
         "type": "integer"
        },
        {
         "name": "ethnicity",
         "rawType": "object",
         "type": "string"
        },
        {
         "name": "mh_past",
         "rawType": "float64",
         "type": "float"
        },
        {
         "name": "mh_current",
         "rawType": "float64",
         "type": "float"
        },
        {
         "name": "fam_mh_past",
         "rawType": "object",
         "type": "unknown"
        },
        {
         "name": "participant_id",
         "rawType": "object",
         "type": "string"
        },
        {
         "name": "study",
         "rawType": "object",
         "type": "string"
        }
       ],
       "ref": "3a3616a4-6664-4995-b558-03c280ea447b",
       "rows": [
        [
         "0",
         "60",
         "White: English, Welsh, Scottish, Northern Irish or British",
         null,
         null,
         null,
         "66d31a1b0515fe747830bab9",
         "pilot"
        ],
        [
         "1",
         "50",
         "White: English, Welsh, Scottish, Northern Irish or British",
         null,
         null,
         "['Major Depression', 'Alcohol Dependence', 'Substance Use Disorder']",
         "572bcdbb34b25a0010ddd977",
         "pilot"
        ]
       ],
       "shape": {
        "columns": 7,
        "rows": 2
       }
      },
      "text/html": [
       "<div>\n",
       "<style scoped>\n",
       "    .dataframe tbody tr th:only-of-type {\n",
       "        vertical-align: middle;\n",
       "    }\n",
       "\n",
       "    .dataframe tbody tr th {\n",
       "        vertical-align: top;\n",
       "    }\n",
       "\n",
       "    .dataframe thead th {\n",
       "        text-align: right;\n",
       "    }\n",
       "</style>\n",
       "<table border=\"1\" class=\"dataframe\">\n",
       "  <thead>\n",
       "    <tr style=\"text-align: right;\">\n",
       "      <th></th>\n",
       "      <th>age</th>\n",
       "      <th>ethnicity</th>\n",
       "      <th>mh_past</th>\n",
       "      <th>mh_current</th>\n",
       "      <th>fam_mh_past</th>\n",
       "      <th>participant_id</th>\n",
       "      <th>study</th>\n",
       "    </tr>\n",
       "  </thead>\n",
       "  <tbody>\n",
       "    <tr>\n",
       "      <th>0</th>\n",
       "      <td>60</td>\n",
       "      <td>White: English, Welsh, Scottish, Northern Iris...</td>\n",
       "      <td>NaN</td>\n",
       "      <td>NaN</td>\n",
       "      <td>NaN</td>\n",
       "      <td>66d31a1b0515fe747830bab9</td>\n",
       "      <td>pilot</td>\n",
       "    </tr>\n",
       "    <tr>\n",
       "      <th>1</th>\n",
       "      <td>50</td>\n",
       "      <td>White: English, Welsh, Scottish, Northern Iris...</td>\n",
       "      <td>NaN</td>\n",
       "      <td>NaN</td>\n",
       "      <td>['Major Depression', 'Alcohol Dependence', 'Su...</td>\n",
       "      <td>572bcdbb34b25a0010ddd977</td>\n",
       "      <td>pilot</td>\n",
       "    </tr>\n",
       "  </tbody>\n",
       "</table>\n",
       "</div>"
      ],
      "text/plain": [
       "   age                                          ethnicity  mh_past  \\\n",
       "0   60  White: English, Welsh, Scottish, Northern Iris...      NaN   \n",
       "1   50  White: English, Welsh, Scottish, Northern Iris...      NaN   \n",
       "\n",
       "   mh_current                                        fam_mh_past  \\\n",
       "0         NaN                                                NaN   \n",
       "1         NaN  ['Major Depression', 'Alcohol Dependence', 'Su...   \n",
       "\n",
       "             participant_id  study  \n",
       "0  66d31a1b0515fe747830bab9  pilot  \n",
       "1  572bcdbb34b25a0010ddd977  pilot  "
      ]
     },
     "execution_count": 4,
     "metadata": {},
     "output_type": "execute_result"
    }
   ],
   "source": [
    "demographic_dfs['demographic_results_pilot_09_07_25']"
   ]
  },
  {
   "cell_type": "code",
   "execution_count": 5,
   "id": "cce51f61",
   "metadata": {},
   "outputs": [
    {
     "data": {
      "application/vnd.microsoft.datawrangler.viewer.v0+json": {
       "columns": [
        {
         "name": "index",
         "rawType": "int64",
         "type": "integer"
        },
        {
         "name": "participant_id",
         "rawType": "object",
         "type": "string"
        },
        {
         "name": "lastWinRew_lastTranUnc",
         "rawType": "float64",
         "type": "float"
        }
       ],
       "ref": "8b5a4d56-5d4d-4325-8c27-a69f0ab128ee",
       "rows": [
        [
         "0",
         "572bcdbb34b25a0010ddd977",
         "-0.0522642986987081"
        ],
        [
         "1",
         "66d31a1b0515fe747830bab9",
         "0.477872238737412"
        ]
       ],
       "shape": {
        "columns": 2,
        "rows": 2
       }
      },
      "text/html": [
       "<div>\n",
       "<style scoped>\n",
       "    .dataframe tbody tr th:only-of-type {\n",
       "        vertical-align: middle;\n",
       "    }\n",
       "\n",
       "    .dataframe tbody tr th {\n",
       "        vertical-align: top;\n",
       "    }\n",
       "\n",
       "    .dataframe thead th {\n",
       "        text-align: right;\n",
       "    }\n",
       "</style>\n",
       "<table border=\"1\" class=\"dataframe\">\n",
       "  <thead>\n",
       "    <tr style=\"text-align: right;\">\n",
       "      <th></th>\n",
       "      <th>participant_id</th>\n",
       "      <th>lastWinRew_lastTranUnc</th>\n",
       "    </tr>\n",
       "  </thead>\n",
       "  <tbody>\n",
       "    <tr>\n",
       "      <th>0</th>\n",
       "      <td>572bcdbb34b25a0010ddd977</td>\n",
       "      <td>-0.052264</td>\n",
       "    </tr>\n",
       "    <tr>\n",
       "      <th>1</th>\n",
       "      <td>66d31a1b0515fe747830bab9</td>\n",
       "      <td>0.477872</td>\n",
       "    </tr>\n",
       "  </tbody>\n",
       "</table>\n",
       "</div>"
      ],
      "text/plain": [
       "             participant_id  lastWinRew_lastTranUnc\n",
       "0  572bcdbb34b25a0010ddd977               -0.052264\n",
       "1  66d31a1b0515fe747830bab9                0.477872"
      ]
     },
     "execution_count": 5,
     "metadata": {},
     "output_type": "execute_result"
    }
   ],
   "source": [
    "tst_dfs['MB_TST_results_pilot_09_07_25']"
   ]
  },
  {
   "cell_type": "code",
   "execution_count": 10,
   "id": "0dc6687c",
   "metadata": {},
   "outputs": [
    {
     "data": {
      "application/vnd.microsoft.datawrangler.viewer.v0+json": {
       "columns": [
        {
         "name": "index",
         "rawType": "int64",
         "type": "integer"
        },
        {
         "name": "participant_id",
         "rawType": "object",
         "type": "string"
        },
        {
         "name": "ocir_overall",
         "rawType": "int64",
         "type": "integer"
        },
        {
         "name": "alcohol_overall",
         "rawType": "int64",
         "type": "integer"
        },
        {
         "name": "social_overall",
         "rawType": "int64",
         "type": "integer"
        },
        {
         "name": "bis_overall",
         "rawType": "int64",
         "type": "integer"
        },
        {
         "name": "neutral_overall",
         "rawType": "int64",
         "type": "integer"
        },
        {
         "name": "depress_overall",
         "rawType": "int64",
         "type": "integer"
        },
        {
         "name": "eat_overall",
         "rawType": "int64",
         "type": "integer"
        },
        {
         "name": "schizo_overall",
         "rawType": "int64",
         "type": "integer"
        },
        {
         "name": "iq_overall",
         "rawType": "int64",
         "type": "integer"
        },
        {
         "name": "anxiety_overall",
         "rawType": "int64",
         "type": "integer"
        },
        {
         "name": "apathy_overall",
         "rawType": "int64",
         "type": "integer"
        },
        {
         "name": "catch_response",
         "rawType": "object",
         "type": "string"
        },
        {
         "name": "catch_infrequent_response",
         "rawType": "object",
         "type": "string"
        },
        {
         "name": "study",
         "rawType": "object",
         "type": "string"
        }
       ],
       "ref": "f9f2dc6f-913d-4e27-b4bd-b0574164ccbf",
       "rows": [
        [
         "0",
         "572bcdbb34b25a0010ddd977",
         "13",
         "11",
         "39",
         "47",
         "40",
         "45",
         "6",
         "11",
         "10",
         "53",
         "62",
         "Pass",
         "Pass",
         "pilot"
        ],
        [
         "1",
         "66d31a1b0515fe747830bab9",
         "23",
         "12",
         "50",
         "70",
         "32",
         "39",
         "4",
         "13",
         "9",
         "48",
         "60",
         "Pass",
         "Pass",
         "pilot"
        ]
       ],
       "shape": {
        "columns": 15,
        "rows": 2
       }
      },
      "text/html": [
       "<div>\n",
       "<style scoped>\n",
       "    .dataframe tbody tr th:only-of-type {\n",
       "        vertical-align: middle;\n",
       "    }\n",
       "\n",
       "    .dataframe tbody tr th {\n",
       "        vertical-align: top;\n",
       "    }\n",
       "\n",
       "    .dataframe thead th {\n",
       "        text-align: right;\n",
       "    }\n",
       "</style>\n",
       "<table border=\"1\" class=\"dataframe\">\n",
       "  <thead>\n",
       "    <tr style=\"text-align: right;\">\n",
       "      <th></th>\n",
       "      <th>participant_id</th>\n",
       "      <th>ocir_overall</th>\n",
       "      <th>alcohol_overall</th>\n",
       "      <th>social_overall</th>\n",
       "      <th>bis_overall</th>\n",
       "      <th>neutral_overall</th>\n",
       "      <th>depress_overall</th>\n",
       "      <th>eat_overall</th>\n",
       "      <th>schizo_overall</th>\n",
       "      <th>iq_overall</th>\n",
       "      <th>anxiety_overall</th>\n",
       "      <th>apathy_overall</th>\n",
       "      <th>catch_response</th>\n",
       "      <th>catch_infrequent_response</th>\n",
       "      <th>study</th>\n",
       "    </tr>\n",
       "  </thead>\n",
       "  <tbody>\n",
       "    <tr>\n",
       "      <th>0</th>\n",
       "      <td>572bcdbb34b25a0010ddd977</td>\n",
       "      <td>13</td>\n",
       "      <td>11</td>\n",
       "      <td>39</td>\n",
       "      <td>47</td>\n",
       "      <td>40</td>\n",
       "      <td>45</td>\n",
       "      <td>6</td>\n",
       "      <td>11</td>\n",
       "      <td>10</td>\n",
       "      <td>53</td>\n",
       "      <td>62</td>\n",
       "      <td>Pass</td>\n",
       "      <td>Pass</td>\n",
       "      <td>pilot</td>\n",
       "    </tr>\n",
       "    <tr>\n",
       "      <th>1</th>\n",
       "      <td>66d31a1b0515fe747830bab9</td>\n",
       "      <td>23</td>\n",
       "      <td>12</td>\n",
       "      <td>50</td>\n",
       "      <td>70</td>\n",
       "      <td>32</td>\n",
       "      <td>39</td>\n",
       "      <td>4</td>\n",
       "      <td>13</td>\n",
       "      <td>9</td>\n",
       "      <td>48</td>\n",
       "      <td>60</td>\n",
       "      <td>Pass</td>\n",
       "      <td>Pass</td>\n",
       "      <td>pilot</td>\n",
       "    </tr>\n",
       "  </tbody>\n",
       "</table>\n",
       "</div>"
      ],
      "text/plain": [
       "             participant_id  ocir_overall  alcohol_overall  social_overall  \\\n",
       "0  572bcdbb34b25a0010ddd977            13               11              39   \n",
       "1  66d31a1b0515fe747830bab9            23               12              50   \n",
       "\n",
       "   bis_overall  neutral_overall  depress_overall  eat_overall  schizo_overall  \\\n",
       "0           47               40               45            6              11   \n",
       "1           70               32               39            4              13   \n",
       "\n",
       "   iq_overall  anxiety_overall  apathy_overall catch_response  \\\n",
       "0          10               53              62           Pass   \n",
       "1           9               48              60           Pass   \n",
       "\n",
       "  catch_infrequent_response  study  \n",
       "0                      Pass  pilot  \n",
       "1                      Pass  pilot  "
      ]
     },
     "execution_count": 10,
     "metadata": {},
     "output_type": "execute_result"
    }
   ],
   "source": [
    "# Different dataframes can be accessed by using the experiment name as a key:\n",
    "\n",
    "questionnaires_dfs['mh_overall_scores_pilot_09_07_25']\n",
    "#questionnaires_dfs['mh_calculated_scores_pilot_09_07_25']\n",
    "#demographic_dfs['demographic_results_pilot_09_07_25']"
   ]
  },
  {
   "cell_type": "code",
   "execution_count": 11,
   "id": "080bd16c",
   "metadata": {},
   "outputs": [
    {
     "data": {
      "application/vnd.microsoft.datawrangler.viewer.v0+json": {
       "columns": [
        {
         "name": "index",
         "rawType": "int64",
         "type": "integer"
        },
        {
         "name": "age",
         "rawType": "int64",
         "type": "integer"
        },
        {
         "name": "ethnicity",
         "rawType": "object",
         "type": "string"
        },
        {
         "name": "mh_past",
         "rawType": "float64",
         "type": "float"
        },
        {
         "name": "mh_current",
         "rawType": "float64",
         "type": "float"
        },
        {
         "name": "fam_mh_past",
         "rawType": "object",
         "type": "unknown"
        },
        {
         "name": "participant_id",
         "rawType": "object",
         "type": "string"
        },
        {
         "name": "study",
         "rawType": "object",
         "type": "string"
        }
       ],
       "ref": "0e3acb8f-633d-4f2b-bd2d-543fb3ea9e25",
       "rows": [
        [
         "0",
         "60",
         "White: English, Welsh, Scottish, Northern Irish or British",
         null,
         null,
         null,
         "66d31a1b0515fe747830bab9",
         "pilot"
        ],
        [
         "1",
         "50",
         "White: English, Welsh, Scottish, Northern Irish or British",
         null,
         null,
         "['Major Depression', 'Alcohol Dependence', 'Substance Use Disorder']",
         "572bcdbb34b25a0010ddd977",
         "pilot"
        ]
       ],
       "shape": {
        "columns": 7,
        "rows": 2
       }
      },
      "text/html": [
       "<div>\n",
       "<style scoped>\n",
       "    .dataframe tbody tr th:only-of-type {\n",
       "        vertical-align: middle;\n",
       "    }\n",
       "\n",
       "    .dataframe tbody tr th {\n",
       "        vertical-align: top;\n",
       "    }\n",
       "\n",
       "    .dataframe thead th {\n",
       "        text-align: right;\n",
       "    }\n",
       "</style>\n",
       "<table border=\"1\" class=\"dataframe\">\n",
       "  <thead>\n",
       "    <tr style=\"text-align: right;\">\n",
       "      <th></th>\n",
       "      <th>age</th>\n",
       "      <th>ethnicity</th>\n",
       "      <th>mh_past</th>\n",
       "      <th>mh_current</th>\n",
       "      <th>fam_mh_past</th>\n",
       "      <th>participant_id</th>\n",
       "      <th>study</th>\n",
       "    </tr>\n",
       "  </thead>\n",
       "  <tbody>\n",
       "    <tr>\n",
       "      <th>0</th>\n",
       "      <td>60</td>\n",
       "      <td>White: English, Welsh, Scottish, Northern Iris...</td>\n",
       "      <td>NaN</td>\n",
       "      <td>NaN</td>\n",
       "      <td>NaN</td>\n",
       "      <td>66d31a1b0515fe747830bab9</td>\n",
       "      <td>pilot</td>\n",
       "    </tr>\n",
       "    <tr>\n",
       "      <th>1</th>\n",
       "      <td>50</td>\n",
       "      <td>White: English, Welsh, Scottish, Northern Iris...</td>\n",
       "      <td>NaN</td>\n",
       "      <td>NaN</td>\n",
       "      <td>['Major Depression', 'Alcohol Dependence', 'Su...</td>\n",
       "      <td>572bcdbb34b25a0010ddd977</td>\n",
       "      <td>pilot</td>\n",
       "    </tr>\n",
       "  </tbody>\n",
       "</table>\n",
       "</div>"
      ],
      "text/plain": [
       "   age                                          ethnicity  mh_past  \\\n",
       "0   60  White: English, Welsh, Scottish, Northern Iris...      NaN   \n",
       "1   50  White: English, Welsh, Scottish, Northern Iris...      NaN   \n",
       "\n",
       "   mh_current                                        fam_mh_past  \\\n",
       "0         NaN                                                NaN   \n",
       "1         NaN  ['Major Depression', 'Alcohol Dependence', 'Su...   \n",
       "\n",
       "             participant_id  study  \n",
       "0  66d31a1b0515fe747830bab9  pilot  \n",
       "1  572bcdbb34b25a0010ddd977  pilot  "
      ]
     },
     "execution_count": 11,
     "metadata": {},
     "output_type": "execute_result"
    }
   ],
   "source": [
    "demographic_dfs['demographic_results_pilot_09_07_25']"
   ]
  },
  {
   "cell_type": "code",
   "execution_count": 7,
   "id": "a8017423",
   "metadata": {},
   "outputs": [
    {
     "name": "stdout",
     "output_type": "stream",
     "text": [
      "No participants failed catch_response\n",
      "No participants failed catch_infrequent_response\n",
      "No participants failed catch_side_response\n",
      "Participants who failed catch_missed_trials: ['66d31a1b0515fe747830bab9']\n",
      "No participants failed catch_RT\n",
      "Participants who failed any_failure: ['66d31a1b0515fe747830bab9']\n"
     ]
    }
   ],
   "source": [
    "# Check which participants have failed the different kinds of catch tests\n",
    "failed_participants = get_failed_participants(questionnaires_dfs, tst_dfs)"
   ]
  },
  {
   "cell_type": "markdown",
   "id": "32436449",
   "metadata": {},
   "source": [
    "Draft analysis\n",
    "\n",
    "1. Correlation IQ and MB index\n",
    "2. Correlation age and MB index\n",
    "2. Correlation of all mental health scores with MB index\n"
   ]
  },
  {
   "cell_type": "code",
   "execution_count": 8,
   "id": "f102bcc2",
   "metadata": {},
   "outputs": [],
   "source": [
    "merged_df = merge_dataframes(demographic_dfs, questionnaires_dfs, tst_dfs)"
   ]
  },
  {
   "cell_type": "code",
   "execution_count": 9,
   "id": "9e866830",
   "metadata": {},
   "outputs": [
    {
     "data": {
      "application/vnd.microsoft.datawrangler.viewer.v0+json": {
       "columns": [
        {
         "name": "index",
         "rawType": "int64",
         "type": "integer"
        },
        {
         "name": "study",
         "rawType": "object",
         "type": "string"
        },
        {
         "name": "participant_id",
         "rawType": "object",
         "type": "string"
        },
        {
         "name": "age",
         "rawType": "int64",
         "type": "integer"
        },
        {
         "name": "lastWinRew_lastTranUnc",
         "rawType": "float64",
         "type": "float"
        },
        {
         "name": "ethnicity",
         "rawType": "object",
         "type": "string"
        },
        {
         "name": "ocir_overall",
         "rawType": "int64",
         "type": "integer"
        },
        {
         "name": "alcohol_overall",
         "rawType": "int64",
         "type": "integer"
        },
        {
         "name": "social_overall",
         "rawType": "int64",
         "type": "integer"
        },
        {
         "name": "bis_overall",
         "rawType": "int64",
         "type": "integer"
        },
        {
         "name": "neutral_overall",
         "rawType": "int64",
         "type": "integer"
        },
        {
         "name": "depress_overall",
         "rawType": "int64",
         "type": "integer"
        },
        {
         "name": "eat_overall",
         "rawType": "int64",
         "type": "integer"
        },
        {
         "name": "schizo_overall",
         "rawType": "int64",
         "type": "integer"
        },
        {
         "name": "iq_overall",
         "rawType": "int64",
         "type": "integer"
        },
        {
         "name": "anxiety_overall",
         "rawType": "int64",
         "type": "integer"
        },
        {
         "name": "apathy_overall",
         "rawType": "int64",
         "type": "integer"
        },
        {
         "name": "mh_past",
         "rawType": "float64",
         "type": "float"
        },
        {
         "name": "mh_current",
         "rawType": "float64",
         "type": "float"
        },
        {
         "name": "fam_mh_past",
         "rawType": "object",
         "type": "unknown"
        }
       ],
       "ref": "37fcae27-cab6-4f83-8551-6eb8966cf328",
       "rows": [
        [
         "0",
         "pilot",
         "66d31a1b0515fe747830bab9",
         "60",
         "0.477872238737412",
         "White: English, Welsh, Scottish, Northern Irish or British",
         "23",
         "12",
         "50",
         "70",
         "32",
         "39",
         "4",
         "13",
         "9",
         "48",
         "60",
         null,
         null,
         null
        ],
        [
         "1",
         "pilot",
         "572bcdbb34b25a0010ddd977",
         "50",
         "-0.0522642986987081",
         "White: English, Welsh, Scottish, Northern Irish or British",
         "13",
         "11",
         "39",
         "47",
         "40",
         "45",
         "6",
         "11",
         "10",
         "53",
         "62",
         null,
         null,
         "['Major Depression', 'Alcohol Dependence', 'Substance Use Disorder']"
        ]
       ],
       "shape": {
        "columns": 19,
        "rows": 2
       }
      },
      "text/html": [
       "<div>\n",
       "<style scoped>\n",
       "    .dataframe tbody tr th:only-of-type {\n",
       "        vertical-align: middle;\n",
       "    }\n",
       "\n",
       "    .dataframe tbody tr th {\n",
       "        vertical-align: top;\n",
       "    }\n",
       "\n",
       "    .dataframe thead th {\n",
       "        text-align: right;\n",
       "    }\n",
       "</style>\n",
       "<table border=\"1\" class=\"dataframe\">\n",
       "  <thead>\n",
       "    <tr style=\"text-align: right;\">\n",
       "      <th></th>\n",
       "      <th>study</th>\n",
       "      <th>participant_id</th>\n",
       "      <th>age</th>\n",
       "      <th>lastWinRew_lastTranUnc</th>\n",
       "      <th>ethnicity</th>\n",
       "      <th>ocir_overall</th>\n",
       "      <th>alcohol_overall</th>\n",
       "      <th>social_overall</th>\n",
       "      <th>bis_overall</th>\n",
       "      <th>neutral_overall</th>\n",
       "      <th>depress_overall</th>\n",
       "      <th>eat_overall</th>\n",
       "      <th>schizo_overall</th>\n",
       "      <th>iq_overall</th>\n",
       "      <th>anxiety_overall</th>\n",
       "      <th>apathy_overall</th>\n",
       "      <th>mh_past</th>\n",
       "      <th>mh_current</th>\n",
       "      <th>fam_mh_past</th>\n",
       "    </tr>\n",
       "  </thead>\n",
       "  <tbody>\n",
       "    <tr>\n",
       "      <th>0</th>\n",
       "      <td>pilot</td>\n",
       "      <td>66d31a1b0515fe747830bab9</td>\n",
       "      <td>60</td>\n",
       "      <td>0.477872</td>\n",
       "      <td>White: English, Welsh, Scottish, Northern Iris...</td>\n",
       "      <td>23</td>\n",
       "      <td>12</td>\n",
       "      <td>50</td>\n",
       "      <td>70</td>\n",
       "      <td>32</td>\n",
       "      <td>39</td>\n",
       "      <td>4</td>\n",
       "      <td>13</td>\n",
       "      <td>9</td>\n",
       "      <td>48</td>\n",
       "      <td>60</td>\n",
       "      <td>NaN</td>\n",
       "      <td>NaN</td>\n",
       "      <td>NaN</td>\n",
       "    </tr>\n",
       "    <tr>\n",
       "      <th>1</th>\n",
       "      <td>pilot</td>\n",
       "      <td>572bcdbb34b25a0010ddd977</td>\n",
       "      <td>50</td>\n",
       "      <td>-0.052264</td>\n",
       "      <td>White: English, Welsh, Scottish, Northern Iris...</td>\n",
       "      <td>13</td>\n",
       "      <td>11</td>\n",
       "      <td>39</td>\n",
       "      <td>47</td>\n",
       "      <td>40</td>\n",
       "      <td>45</td>\n",
       "      <td>6</td>\n",
       "      <td>11</td>\n",
       "      <td>10</td>\n",
       "      <td>53</td>\n",
       "      <td>62</td>\n",
       "      <td>NaN</td>\n",
       "      <td>NaN</td>\n",
       "      <td>['Major Depression', 'Alcohol Dependence', 'Su...</td>\n",
       "    </tr>\n",
       "  </tbody>\n",
       "</table>\n",
       "</div>"
      ],
      "text/plain": [
       "   study            participant_id  age  lastWinRew_lastTranUnc  \\\n",
       "0  pilot  66d31a1b0515fe747830bab9   60                0.477872   \n",
       "1  pilot  572bcdbb34b25a0010ddd977   50               -0.052264   \n",
       "\n",
       "                                           ethnicity  ocir_overall  \\\n",
       "0  White: English, Welsh, Scottish, Northern Iris...            23   \n",
       "1  White: English, Welsh, Scottish, Northern Iris...            13   \n",
       "\n",
       "   alcohol_overall  social_overall  bis_overall  neutral_overall  \\\n",
       "0               12              50           70               32   \n",
       "1               11              39           47               40   \n",
       "\n",
       "   depress_overall  eat_overall  schizo_overall  iq_overall  anxiety_overall  \\\n",
       "0               39            4              13           9               48   \n",
       "1               45            6              11          10               53   \n",
       "\n",
       "   apathy_overall  mh_past  mh_current  \\\n",
       "0              60      NaN         NaN   \n",
       "1              62      NaN         NaN   \n",
       "\n",
       "                                         fam_mh_past  \n",
       "0                                                NaN  \n",
       "1  ['Major Depression', 'Alcohol Dependence', 'Su...  "
      ]
     },
     "execution_count": 9,
     "metadata": {},
     "output_type": "execute_result"
    }
   ],
   "source": [
    "merged_df"
   ]
  },
  {
   "cell_type": "code",
   "execution_count": null,
   "id": "e92e87c8",
   "metadata": {},
   "outputs": [],
   "source": []
  }
 ],
 "metadata": {
  "kernelspec": {
   "display_name": "TST_Extraction",
   "language": "python",
   "name": "python3"
  },
  "language_info": {
   "codemirror_mode": {
    "name": "ipython",
    "version": 3
   },
   "file_extension": ".py",
   "mimetype": "text/x-python",
   "name": "python",
   "nbconvert_exporter": "python",
   "pygments_lexer": "ipython3",
   "version": "3.12.7"
  }
 },
 "nbformat": 4,
 "nbformat_minor": 5
}
