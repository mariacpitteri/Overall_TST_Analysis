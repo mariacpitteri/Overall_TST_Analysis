{
 "cells": [
  {
   "cell_type": "code",
   "execution_count": 1,
   "id": "92edb86e",
   "metadata": {},
   "outputs": [],
   "source": [
    "import pandas as pd\n",
    "import glob\n",
    "import os\n",
    "import numpy as np\n",
    "\n",
    "from functions import *\n",
    "from plots import *"
   ]
  },
  {
   "cell_type": "markdown",
   "id": "1eeebf51",
   "metadata": {},
   "source": [
    "The aim of this notebook is to visualise relationships between performance in the two-step task and mental-health/cognitive dimensions.\n",
    "\n",
    "Draft analysis\n",
    "\n",
    "1. Reproduce Fig 2B from Donegan looking at the probability of staying given the previous reward\n",
    "\n",
    "1. Correlation IQ and MB index\n",
    "2. Correlation age and MB index\n",
    "2. Correlation of all mental health scores with MB index"
   ]
  },
  {
   "cell_type": "code",
   "execution_count": 14,
   "id": "719fef68",
   "metadata": {},
   "outputs": [],
   "source": [
    "# Load fully merged data frames\n",
    "\n",
    "# Load demographic and questionnaires results\n",
    "dem_quest_dfs = load_data(\"Overall_Results/Dem_Quest\")\n",
    "\n",
    "# Load raw TST results\n",
    "tst_dfs = load_data(\"Overall_Results/Two_Step_Task_Results\")\n",
    "\n",
    "# Load modelling results\n",
    "modelling_dfs = load_data(\"Overall_Results/Models\")\n",
    "\n",
    "# Set study to look at\n",
    "study = \"pilot_09_07_25\"\n"
   ]
  },
  {
   "cell_type": "code",
   "execution_count": null,
   "id": "33537e00",
   "metadata": {},
   "outputs": [],
   "source": []
  },
  {
   "cell_type": "markdown",
   "id": "a0481f4f",
   "metadata": {},
   "source": [
    "MAKE SURE THAT THE PREDICTOR SITUATION IS CLEAR, IE GILLAN USES STAY FOR THE SYMPTOM MODEL WHILE DONEGAN USES THE MB VALUE SO IT DIVIDES THE MODEL IN 2 PARTS, IT NEEDS TO BE CLEAR IN THE DT WHAT IS THE COEFFIVCIENT ORIGINATING FORM "
   ]
  },
  {
   "cell_type": "code",
   "execution_count": null,
   "id": "52629d53",
   "metadata": {},
   "outputs": [],
   "source": []
  },
  {
   "cell_type": "markdown",
   "id": "ccee1232",
   "metadata": {},
   "source": [
    "The following data frame contains the coefficients of the base model **currStay ~ lastWinRew * lastTranUnc + (lastWinRew * lastTranUnc + 1 | participant_id)** used by Gillan et al. (2016). It provides estimates for the coefficients of \"stay\", \"modelFree\", \"transition\" and \"modelBased\". These coefficients can be combined with participants age or mental health results to build normative models."
   ]
  },
  {
   "cell_type": "code",
   "execution_count": 15,
   "id": "aba51c57",
   "metadata": {},
   "outputs": [
    {
     "data": {
      "application/vnd.microsoft.datawrangler.viewer.v0+json": {
       "columns": [
        {
         "name": "index",
         "rawType": "int64",
         "type": "integer"
        },
        {
         "name": "stay",
         "rawType": "float64",
         "type": "float"
        },
        {
         "name": "modelFree",
         "rawType": "float64",
         "type": "float"
        },
        {
         "name": "transition",
         "rawType": "float64",
         "type": "float"
        },
        {
         "name": "modelBased",
         "rawType": "float64",
         "type": "float"
        },
        {
         "name": "participant_id",
         "rawType": "object",
         "type": "string"
        }
       ],
       "ref": "1c6c701a-6087-47c0-b164-d222699965eb",
       "rows": [
        [
         "0",
         "0.183629371089599",
         "0.430830792961836",
         "0.0323383680801975",
         "-0.0522642986987081",
         "572bcdbb34b25a0010ddd977"
        ],
        [
         "1",
         "1.94781004002345",
         "-0.195449385154871",
         "0.163099939716294",
         "0.477872238737412",
         "66d31a1b0515fe747830bab9"
        ]
       ],
       "shape": {
        "columns": 5,
        "rows": 2
       }
      },
      "text/html": [
       "<div>\n",
       "<style scoped>\n",
       "    .dataframe tbody tr th:only-of-type {\n",
       "        vertical-align: middle;\n",
       "    }\n",
       "\n",
       "    .dataframe tbody tr th {\n",
       "        vertical-align: top;\n",
       "    }\n",
       "\n",
       "    .dataframe thead th {\n",
       "        text-align: right;\n",
       "    }\n",
       "</style>\n",
       "<table border=\"1\" class=\"dataframe\">\n",
       "  <thead>\n",
       "    <tr style=\"text-align: right;\">\n",
       "      <th></th>\n",
       "      <th>stay</th>\n",
       "      <th>modelFree</th>\n",
       "      <th>transition</th>\n",
       "      <th>modelBased</th>\n",
       "      <th>participant_id</th>\n",
       "    </tr>\n",
       "  </thead>\n",
       "  <tbody>\n",
       "    <tr>\n",
       "      <th>0</th>\n",
       "      <td>0.183629</td>\n",
       "      <td>0.430831</td>\n",
       "      <td>0.032338</td>\n",
       "      <td>-0.052264</td>\n",
       "      <td>572bcdbb34b25a0010ddd977</td>\n",
       "    </tr>\n",
       "    <tr>\n",
       "      <th>1</th>\n",
       "      <td>1.947810</td>\n",
       "      <td>-0.195449</td>\n",
       "      <td>0.163100</td>\n",
       "      <td>0.477872</td>\n",
       "      <td>66d31a1b0515fe747830bab9</td>\n",
       "    </tr>\n",
       "  </tbody>\n",
       "</table>\n",
       "</div>"
      ],
      "text/plain": [
       "       stay  modelFree  transition  modelBased            participant_id\n",
       "0  0.183629   0.430831    0.032338   -0.052264  572bcdbb34b25a0010ddd977\n",
       "1  1.947810  -0.195449    0.163100    0.477872  66d31a1b0515fe747830bab9"
      ]
     },
     "execution_count": 15,
     "metadata": {},
     "output_type": "execute_result"
    }
   ],
   "source": [
    "\n",
    "modelling_dfs[f'model_results_gillan_baseline_glmer_{study}']"
   ]
  },
  {
   "cell_type": "markdown",
   "id": "70690700",
   "metadata": {},
   "source": [
    "The following data frame looks at how different mental health disorders can be related to modelBased fixed effect. It has been used in Gillan et al. (2016) paper in Table 1.\n",
    "\n",
    "The model that was ran to obtain these results is: \n",
    "\n",
    "**currStay ~ lastWinRew * lastTranUnc * symptom + lastWinRew * lastTranUnc * (iq_z + age_z + gender) + (lastWinRew * lastTranUnc + 1 | participant_id)**"
   ]
  },
  {
   "cell_type": "code",
   "execution_count": null,
   "id": "ea0e8c45",
   "metadata": {},
   "outputs": [
    {
     "data": {
      "application/vnd.microsoft.datawrangler.viewer.v0+json": {
       "columns": [
        {
         "name": "index",
         "rawType": "int64",
         "type": "integer"
        },
        {
         "name": "Questionnaire",
         "rawType": "object",
         "type": "string"
        },
        {
         "name": "Coefficient",
         "rawType": "float64",
         "type": "float"
        },
        {
         "name": "SE",
         "rawType": "float64",
         "type": "float"
        },
        {
         "name": "Z_value",
         "rawType": "float64",
         "type": "float"
        },
        {
         "name": "P_value",
         "rawType": "float64",
         "type": "float"
        }
       ],
       "ref": "988291ed-6650-4371-be94-161e52e3d5b9",
       "rows": [
        [
         "0",
         "Eating Disorders",
         "-0.279025209284024",
         "0.18044972449004",
         "-1.54627672650963",
         "0.122037750227724"
        ],
        [
         "1",
         "Impulsivity",
         "0.279025305120584",
         "0.180450647361921",
         "1.54626934954108",
         "0.122039531078621"
        ],
        [
         "2",
         "OCD",
         "0.2790257957905",
         "0.18045398891281",
         "1.54624343563454",
         "0.122045787034735"
        ],
        [
         "3",
         "Alcohol Addiction",
         "0.279025678431351",
         "0.180451421053479",
         "1.54626478861952",
         "0.122040632126585"
        ],
        [
         "4",
         "Schizotypy",
         "0.279025678431351",
         "0.180451421053479",
         "1.54626478861952",
         "0.122040632126585"
        ],
        [
         "5",
         "Depression",
         "-0.279025209284024",
         "0.18044972449004",
         "-1.54627672650963",
         "0.122037750227724"
        ],
        [
         "6",
         "Trait Anxiety",
         "-0.279025664266617",
         "0.180451665473378",
         "-1.546262615724",
         "0.122041156686067"
        ],
        [
         "7",
         "Apathy",
         "-0.279025209284024",
         "0.18044972449004",
         "-1.54627672650963",
         "0.122037750227724"
        ],
        [
         "8",
         "Social Anxiety",
         "0.279025305120584",
         "0.180450647361921",
         "1.54626934954108",
         "0.122039531078621"
        ]
       ],
       "shape": {
        "columns": 5,
        "rows": 9
       }
      },
      "text/html": [
       "<div>\n",
       "<style scoped>\n",
       "    .dataframe tbody tr th:only-of-type {\n",
       "        vertical-align: middle;\n",
       "    }\n",
       "\n",
       "    .dataframe tbody tr th {\n",
       "        vertical-align: top;\n",
       "    }\n",
       "\n",
       "    .dataframe thead th {\n",
       "        text-align: right;\n",
       "    }\n",
       "</style>\n",
       "<table border=\"1\" class=\"dataframe\">\n",
       "  <thead>\n",
       "    <tr style=\"text-align: right;\">\n",
       "      <th></th>\n",
       "      <th>Questionnaire</th>\n",
       "      <th>Coefficient</th>\n",
       "      <th>SE</th>\n",
       "      <th>Z_value</th>\n",
       "      <th>P_value</th>\n",
       "    </tr>\n",
       "  </thead>\n",
       "  <tbody>\n",
       "    <tr>\n",
       "      <th>0</th>\n",
       "      <td>Eating Disorders</td>\n",
       "      <td>-0.279025</td>\n",
       "      <td>0.180450</td>\n",
       "      <td>-1.546277</td>\n",
       "      <td>0.122038</td>\n",
       "    </tr>\n",
       "    <tr>\n",
       "      <th>1</th>\n",
       "      <td>Impulsivity</td>\n",
       "      <td>0.279025</td>\n",
       "      <td>0.180451</td>\n",
       "      <td>1.546269</td>\n",
       "      <td>0.122040</td>\n",
       "    </tr>\n",
       "    <tr>\n",
       "      <th>2</th>\n",
       "      <td>OCD</td>\n",
       "      <td>0.279026</td>\n",
       "      <td>0.180454</td>\n",
       "      <td>1.546243</td>\n",
       "      <td>0.122046</td>\n",
       "    </tr>\n",
       "    <tr>\n",
       "      <th>3</th>\n",
       "      <td>Alcohol Addiction</td>\n",
       "      <td>0.279026</td>\n",
       "      <td>0.180451</td>\n",
       "      <td>1.546265</td>\n",
       "      <td>0.122041</td>\n",
       "    </tr>\n",
       "    <tr>\n",
       "      <th>4</th>\n",
       "      <td>Schizotypy</td>\n",
       "      <td>0.279026</td>\n",
       "      <td>0.180451</td>\n",
       "      <td>1.546265</td>\n",
       "      <td>0.122041</td>\n",
       "    </tr>\n",
       "    <tr>\n",
       "      <th>5</th>\n",
       "      <td>Depression</td>\n",
       "      <td>-0.279025</td>\n",
       "      <td>0.180450</td>\n",
       "      <td>-1.546277</td>\n",
       "      <td>0.122038</td>\n",
       "    </tr>\n",
       "    <tr>\n",
       "      <th>6</th>\n",
       "      <td>Trait Anxiety</td>\n",
       "      <td>-0.279026</td>\n",
       "      <td>0.180452</td>\n",
       "      <td>-1.546263</td>\n",
       "      <td>0.122041</td>\n",
       "    </tr>\n",
       "    <tr>\n",
       "      <th>7</th>\n",
       "      <td>Apathy</td>\n",
       "      <td>-0.279025</td>\n",
       "      <td>0.180450</td>\n",
       "      <td>-1.546277</td>\n",
       "      <td>0.122038</td>\n",
       "    </tr>\n",
       "    <tr>\n",
       "      <th>8</th>\n",
       "      <td>Social Anxiety</td>\n",
       "      <td>0.279025</td>\n",
       "      <td>0.180451</td>\n",
       "      <td>1.546269</td>\n",
       "      <td>0.122040</td>\n",
       "    </tr>\n",
       "  </tbody>\n",
       "</table>\n",
       "</div>"
      ],
      "text/plain": [
       "       Questionnaire  Coefficient        SE   Z_value   P_value\n",
       "0   Eating Disorders    -0.279025  0.180450 -1.546277  0.122038\n",
       "1        Impulsivity     0.279025  0.180451  1.546269  0.122040\n",
       "2                OCD     0.279026  0.180454  1.546243  0.122046\n",
       "3  Alcohol Addiction     0.279026  0.180451  1.546265  0.122041\n",
       "4         Schizotypy     0.279026  0.180451  1.546265  0.122041\n",
       "5         Depression    -0.279025  0.180450 -1.546277  0.122038\n",
       "6      Trait Anxiety    -0.279026  0.180452 -1.546263  0.122041\n",
       "7             Apathy    -0.279025  0.180450 -1.546277  0.122038\n",
       "8     Social Anxiety     0.279025  0.180451  1.546269  0.122040"
      ]
     },
     "metadata": {},
     "output_type": "display_data"
    }
   ],
   "source": [
    "modelling_dfs[f'model_results_gillan_symptom_glmer_{study}']"
   ]
  },
  {
   "cell_type": "code",
   "execution_count": 16,
   "id": "901c993d",
   "metadata": {},
   "outputs": [
    {
     "data": {
      "application/vnd.microsoft.datawrangler.viewer.v0+json": {
       "columns": [
        {
         "name": "index",
         "rawType": "int64",
         "type": "integer"
        },
        {
         "name": "Estimate",
         "rawType": "float64",
         "type": "float"
        },
        {
         "name": "Std. Error",
         "rawType": "float64",
         "type": "float"
        },
        {
         "name": "t value",
         "rawType": "int64",
         "type": "integer"
        },
        {
         "name": "Pr(>|t|)",
         "rawType": "int64",
         "type": "integer"
        },
        {
         "name": "Predictor",
         "rawType": "object",
         "type": "string"
        }
       ],
       "ref": "6d720294-3c43-44c5-bd70-c8af0307ea3d",
       "rows": [
        [
         "0",
         "0.212803970019353",
         "1.58485168445506e-16",
         "1342737444182509",
         "0",
         "(Intercept)"
        ],
        [
         "1",
         "0.265401897885625",
         "1.58684646395378e-16",
         "1672511512073764",
         "0",
         "age_z"
        ]
       ],
       "shape": {
        "columns": 5,
        "rows": 2
       }
      },
      "text/html": [
       "<div>\n",
       "<style scoped>\n",
       "    .dataframe tbody tr th:only-of-type {\n",
       "        vertical-align: middle;\n",
       "    }\n",
       "\n",
       "    .dataframe tbody tr th {\n",
       "        vertical-align: top;\n",
       "    }\n",
       "\n",
       "    .dataframe thead th {\n",
       "        text-align: right;\n",
       "    }\n",
       "</style>\n",
       "<table border=\"1\" class=\"dataframe\">\n",
       "  <thead>\n",
       "    <tr style=\"text-align: right;\">\n",
       "      <th></th>\n",
       "      <th>Estimate</th>\n",
       "      <th>Std. Error</th>\n",
       "      <th>t value</th>\n",
       "      <th>Pr(&gt;|t|)</th>\n",
       "      <th>Predictor</th>\n",
       "    </tr>\n",
       "  </thead>\n",
       "  <tbody>\n",
       "    <tr>\n",
       "      <th>0</th>\n",
       "      <td>0.212804</td>\n",
       "      <td>1.584852e-16</td>\n",
       "      <td>1342737444182509</td>\n",
       "      <td>0</td>\n",
       "      <td>(Intercept)</td>\n",
       "    </tr>\n",
       "    <tr>\n",
       "      <th>1</th>\n",
       "      <td>0.265402</td>\n",
       "      <td>1.586846e-16</td>\n",
       "      <td>1672511512073764</td>\n",
       "      <td>0</td>\n",
       "      <td>age_z</td>\n",
       "    </tr>\n",
       "  </tbody>\n",
       "</table>\n",
       "</div>"
      ],
      "text/plain": [
       "   Estimate    Std. Error           t value  Pr(>|t|)    Predictor\n",
       "0  0.212804  1.584852e-16  1342737444182509         0  (Intercept)\n",
       "1  0.265402  1.586846e-16  1672511512073764         0        age_z"
      ]
     },
     "execution_count": 16,
     "metadata": {},
     "output_type": "execute_result"
    }
   ],
   "source": [
    "modelling_dfs[f'model_results_donegan_demographic_lm_{study}']"
   ]
  },
  {
   "cell_type": "code",
   "execution_count": null,
   "id": "51dc4130",
   "metadata": {},
   "outputs": [
    {
     "data": {
      "application/vnd.microsoft.datawrangler.viewer.v0+json": {
       "columns": [
        {
         "name": "index",
         "rawType": "int64",
         "type": "integer"
        },
        {
         "name": "Questionnaire",
         "rawType": "object",
         "type": "string"
        },
        {
         "name": "Coefficient",
         "rawType": "float64",
         "type": "float"
        },
        {
         "name": "SE",
         "rawType": "float64",
         "type": "float"
        },
        {
         "name": "T_value",
         "rawType": "int64",
         "type": "integer"
        },
        {
         "name": "P_value",
         "rawType": "int64",
         "type": "integer"
        }
       ],
       "ref": "13e2cfe9-e355-4e92-965d-d771aabe00ac",
       "rows": [
        [
         "0",
         "Eating Disorders",
         "-0.265401897885625",
         "1.61331948380985e-16",
         "-1645067208008169",
         "0"
        ],
        [
         "1",
         "Impulsivity",
         "0.265401897885625",
         "1.59702792142228e-16",
         "1661848827597601",
         "0"
        ],
        [
         "2",
         "OCD",
         "0.265401897885625",
         "1.58684646395378e-16",
         "1672511512073764",
         "0"
        ],
        [
         "3",
         "Alcohol Addiction",
         "0.265401897885625",
         "1.61331948380985e-16",
         "1645067208008169",
         "0"
        ],
        [
         "4",
         "Schizotypy",
         "0.265401897885625",
         "1.61331948380985e-16",
         "1645067208008169",
         "0"
        ],
        [
         "5",
         "Depression",
         "-0.265401897885625",
         "1.61331948380985e-16",
         "-1645067208008169",
         "0"
        ],
        [
         "6",
         "Trait Anxiety",
         "-0.265401897885625",
         "1.58684646395378e-16",
         "-1672511512073764",
         "0"
        ],
        [
         "7",
         "Apathy",
         "-0.265401897885625",
         "1.61331948380985e-16",
         "-1645067208008169",
         "0"
        ],
        [
         "8",
         "Social Anxiety",
         "0.265401897885625",
         "1.59702792142228e-16",
         "1661848827597601",
         "0"
        ]
       ],
       "shape": {
        "columns": 5,
        "rows": 9
       }
      },
      "text/html": [
       "<div>\n",
       "<style scoped>\n",
       "    .dataframe tbody tr th:only-of-type {\n",
       "        vertical-align: middle;\n",
       "    }\n",
       "\n",
       "    .dataframe tbody tr th {\n",
       "        vertical-align: top;\n",
       "    }\n",
       "\n",
       "    .dataframe thead th {\n",
       "        text-align: right;\n",
       "    }\n",
       "</style>\n",
       "<table border=\"1\" class=\"dataframe\">\n",
       "  <thead>\n",
       "    <tr style=\"text-align: right;\">\n",
       "      <th></th>\n",
       "      <th>Questionnaire</th>\n",
       "      <th>Coefficient</th>\n",
       "      <th>SE</th>\n",
       "      <th>T_value</th>\n",
       "      <th>P_value</th>\n",
       "    </tr>\n",
       "  </thead>\n",
       "  <tbody>\n",
       "    <tr>\n",
       "      <th>0</th>\n",
       "      <td>Eating Disorders</td>\n",
       "      <td>-0.265402</td>\n",
       "      <td>1.613319e-16</td>\n",
       "      <td>-1645067208008169</td>\n",
       "      <td>0</td>\n",
       "    </tr>\n",
       "    <tr>\n",
       "      <th>1</th>\n",
       "      <td>Impulsivity</td>\n",
       "      <td>0.265402</td>\n",
       "      <td>1.597028e-16</td>\n",
       "      <td>1661848827597601</td>\n",
       "      <td>0</td>\n",
       "    </tr>\n",
       "    <tr>\n",
       "      <th>2</th>\n",
       "      <td>OCD</td>\n",
       "      <td>0.265402</td>\n",
       "      <td>1.586846e-16</td>\n",
       "      <td>1672511512073764</td>\n",
       "      <td>0</td>\n",
       "    </tr>\n",
       "    <tr>\n",
       "      <th>3</th>\n",
       "      <td>Alcohol Addiction</td>\n",
       "      <td>0.265402</td>\n",
       "      <td>1.613319e-16</td>\n",
       "      <td>1645067208008169</td>\n",
       "      <td>0</td>\n",
       "    </tr>\n",
       "    <tr>\n",
       "      <th>4</th>\n",
       "      <td>Schizotypy</td>\n",
       "      <td>0.265402</td>\n",
       "      <td>1.613319e-16</td>\n",
       "      <td>1645067208008169</td>\n",
       "      <td>0</td>\n",
       "    </tr>\n",
       "    <tr>\n",
       "      <th>5</th>\n",
       "      <td>Depression</td>\n",
       "      <td>-0.265402</td>\n",
       "      <td>1.613319e-16</td>\n",
       "      <td>-1645067208008169</td>\n",
       "      <td>0</td>\n",
       "    </tr>\n",
       "    <tr>\n",
       "      <th>6</th>\n",
       "      <td>Trait Anxiety</td>\n",
       "      <td>-0.265402</td>\n",
       "      <td>1.586846e-16</td>\n",
       "      <td>-1672511512073764</td>\n",
       "      <td>0</td>\n",
       "    </tr>\n",
       "    <tr>\n",
       "      <th>7</th>\n",
       "      <td>Apathy</td>\n",
       "      <td>-0.265402</td>\n",
       "      <td>1.613319e-16</td>\n",
       "      <td>-1645067208008169</td>\n",
       "      <td>0</td>\n",
       "    </tr>\n",
       "    <tr>\n",
       "      <th>8</th>\n",
       "      <td>Social Anxiety</td>\n",
       "      <td>0.265402</td>\n",
       "      <td>1.597028e-16</td>\n",
       "      <td>1661848827597601</td>\n",
       "      <td>0</td>\n",
       "    </tr>\n",
       "  </tbody>\n",
       "</table>\n",
       "</div>"
      ],
      "text/plain": [
       "       Questionnaire  Coefficient            SE           T_value  P_value\n",
       "0   Eating Disorders    -0.265402  1.613319e-16 -1645067208008169        0\n",
       "1        Impulsivity     0.265402  1.597028e-16  1661848827597601        0\n",
       "2                OCD     0.265402  1.586846e-16  1672511512073764        0\n",
       "3  Alcohol Addiction     0.265402  1.613319e-16  1645067208008169        0\n",
       "4         Schizotypy     0.265402  1.613319e-16  1645067208008169        0\n",
       "5         Depression    -0.265402  1.613319e-16 -1645067208008169        0\n",
       "6      Trait Anxiety    -0.265402  1.586846e-16 -1672511512073764        0\n",
       "7             Apathy    -0.265402  1.613319e-16 -1645067208008169        0\n",
       "8     Social Anxiety     0.265402  1.597028e-16  1661848827597601        0"
      ]
     },
     "metadata": {},
     "output_type": "display_data"
    }
   ],
   "source": [
    "modelling_dfs['model_results_donegan_symptom_lm_pilot_09_07_25']"
   ]
  },
  {
   "cell_type": "markdown",
   "id": "4468ed40",
   "metadata": {},
   "source": [
    "### 1. Reproduce Fig 2B from Donegan et al. (2024) looking at the probability of staying given the previous reward\n"
   ]
  },
  {
   "cell_type": "code",
   "execution_count": 3,
   "id": "5e275c73",
   "metadata": {},
   "outputs": [],
   "source": [
    "\n",
    "# Group staying data by participant, last reward, last transition and calcuate the probability of staying\n",
    "grouped_data = group_mb_data(tst_dfs['TST_results_pilot_09_07_25'], [\"participant_id\",\"lastWinRew\", \"lastTranUnc\"], \"currStay\")"
   ]
  },
  {
   "cell_type": "code",
   "execution_count": 4,
   "id": "fac6b5b6",
   "metadata": {},
   "outputs": [
    {
     "data": {
      "image/png": "[encoded data removed]",
      "text/plain": [
       "<Figure size 800x500 with 1 Axes>"
      ]
     },
     "metadata": {},
     "output_type": "display_data"
    }
   ],
   "source": [
    "# Plot the proportion of stay by reward and transition type for each participant\n",
    "box_plots(grouped_data, \"lastWinRew\", \"prob_Stay\", \"lastTranUnc\", \"Proportion of Stay by Reward and Transition Type\", palette=\"Set2\")"
   ]
  },
  {
   "cell_type": "markdown",
   "id": "1605e7eb",
   "metadata": {},
   "source": [
    "### 2. Reproduce Fig 3D from Donegan et al. (2024) looking at association of model-based learning with individual differences: age, gender, and education\n",
    "\n"
   ]
  },
  {
   "cell_type": "code",
   "execution_count": 5,
   "id": "6d5f747d",
   "metadata": {},
   "outputs": [
    {
     "data": {
      "application/vnd.microsoft.datawrangler.viewer.v0+json": {
       "columns": [
        {
         "name": "index",
         "rawType": "int64",
         "type": "integer"
        },
        {
         "name": "Estimate",
         "rawType": "float64",
         "type": "float"
        },
        {
         "name": "Std. Error",
         "rawType": "float64",
         "type": "float"
        },
        {
         "name": "t value",
         "rawType": "int64",
         "type": "integer"
        },
        {
         "name": "Pr(>|t|)",
         "rawType": "int64",
         "type": "integer"
        },
        {
         "name": "Predictor",
         "rawType": "object",
         "type": "string"
        }
       ],
       "ref": "3dc47a22-7db1-4feb-805b-d1a20637e7b2",
       "rows": [
        [
         "0",
         "0.212803970019353",
         "1.58485168445506e-16",
         "1342737444182509",
         "0",
         "(Intercept)"
        ],
        [
         "1",
         "0.265401897885625",
         "1.58684646395378e-16",
         "1672511512073764",
         "0",
         "age_z"
        ]
       ],
       "shape": {
        "columns": 5,
        "rows": 2
       }
      },
      "text/html": [
       "<div>\n",
       "<style scoped>\n",
       "    .dataframe tbody tr th:only-of-type {\n",
       "        vertical-align: middle;\n",
       "    }\n",
       "\n",
       "    .dataframe tbody tr th {\n",
       "        vertical-align: top;\n",
       "    }\n",
       "\n",
       "    .dataframe thead th {\n",
       "        text-align: right;\n",
       "    }\n",
       "</style>\n",
       "<table border=\"1\" class=\"dataframe\">\n",
       "  <thead>\n",
       "    <tr style=\"text-align: right;\">\n",
       "      <th></th>\n",
       "      <th>Estimate</th>\n",
       "      <th>Std. Error</th>\n",
       "      <th>t value</th>\n",
       "      <th>Pr(&gt;|t|)</th>\n",
       "      <th>Predictor</th>\n",
       "    </tr>\n",
       "  </thead>\n",
       "  <tbody>\n",
       "    <tr>\n",
       "      <th>0</th>\n",
       "      <td>0.212804</td>\n",
       "      <td>1.584852e-16</td>\n",
       "      <td>1342737444182509</td>\n",
       "      <td>0</td>\n",
       "      <td>(Intercept)</td>\n",
       "    </tr>\n",
       "    <tr>\n",
       "      <th>1</th>\n",
       "      <td>0.265402</td>\n",
       "      <td>1.586846e-16</td>\n",
       "      <td>1672511512073764</td>\n",
       "      <td>0</td>\n",
       "      <td>age_z</td>\n",
       "    </tr>\n",
       "  </tbody>\n",
       "</table>\n",
       "</div>"
      ],
      "text/plain": [
       "   Estimate    Std. Error           t value  Pr(>|t|)    Predictor\n",
       "0  0.212804  1.584852e-16  1342737444182509         0  (Intercept)\n",
       "1  0.265402  1.586846e-16  1672511512073764         0        age_z"
      ]
     },
     "execution_count": 5,
     "metadata": {},
     "output_type": "execute_result"
    }
   ],
   "source": [
    "modelling_dfs['model_results_donegan_demographic_lm_pilot_09_07_25']"
   ]
  },
  {
   "cell_type": "code",
   "execution_count": 6,
   "id": "57bb7f0d",
   "metadata": {},
   "outputs": [
    {
     "data": {
      "image/png": "[encoded data removed]",
      "text/plain": [
       "<Figure size 800x600 with 1 Axes>"
      ]
     },
     "metadata": {},
     "output_type": "display_data"
    }
   ],
   "source": [
    "point_plot(modelling_dfs['model_results_donegan_demographic_lm_pilot_09_07_25'])"
   ]
  },
  {
   "cell_type": "markdown",
   "id": "06446508",
   "metadata": {},
   "source": [
    "### 3. Reproduce Fig 3E from Donegan et al. (2024) looking at looking at association of model-based learning with mental health symptoms"
   ]
  },
  {
   "cell_type": "code",
   "execution_count": 7,
   "id": "06b83761",
   "metadata": {},
   "outputs": [
    {
     "ename": "KeyError",
     "evalue": "'Predictor'",
     "output_type": "error",
     "traceback": [
      "\u001b[0;31m---------------------------------------------------------------------------\u001b[0m",
      "\u001b[0;31mKeyError\u001b[0m                                  Traceback (most recent call last)",
      "File \u001b[0;32m/opt/anaconda3/envs/TST_Extraction/lib/python3.12/site-packages/pandas/core/indexes/base.py:3805\u001b[0m, in \u001b[0;36mIndex.get_loc\u001b[0;34m(self, key)\u001b[0m\n\u001b[1;32m   3804\u001b[0m \u001b[38;5;28;01mtry\u001b[39;00m:\n\u001b[0;32m-> 3805\u001b[0m     \u001b[38;5;28;01mreturn\u001b[39;00m \u001b[38;5;28;43mself\u001b[39;49m\u001b[38;5;241;43m.\u001b[39;49m\u001b[43m_engine\u001b[49m\u001b[38;5;241;43m.\u001b[39;49m\u001b[43mget_loc\u001b[49m\u001b[43m(\u001b[49m\u001b[43mcasted_key\u001b[49m\u001b[43m)\u001b[49m\n\u001b[1;32m   3806\u001b[0m \u001b[38;5;28;01mexcept\u001b[39;00m \u001b[38;5;167;01mKeyError\u001b[39;00m \u001b[38;5;28;01mas\u001b[39;00m err:\n",
      "File \u001b[0;32mindex.pyx:167\u001b[0m, in \u001b[0;36mpandas._libs.index.IndexEngine.get_loc\u001b[0;34m()\u001b[0m\n",
      "File \u001b[0;32mindex.pyx:196\u001b[0m, in \u001b[0;36mpandas._libs.index.IndexEngine.get_loc\u001b[0;34m()\u001b[0m\n",
      "File \u001b[0;32mpandas/_libs/hashtable_class_helper.pxi:7081\u001b[0m, in \u001b[0;36mpandas._libs.hashtable.PyObjectHashTable.get_item\u001b[0;34m()\u001b[0m\n",
      "File \u001b[0;32mpandas/_libs/hashtable_class_helper.pxi:7089\u001b[0m, in \u001b[0;36mpandas._libs.hashtable.PyObjectHashTable.get_item\u001b[0;34m()\u001b[0m\n",
      "\u001b[0;31mKeyError\u001b[0m: 'Predictor'",
      "\nThe above exception was the direct cause of the following exception:\n",
      "\u001b[0;31mKeyError\u001b[0m                                  Traceback (most recent call last)",
      "Cell \u001b[0;32mIn[7], line 1\u001b[0m\n\u001b[0;32m----> 1\u001b[0m \u001b[43mpoint_plot\u001b[49m\u001b[43m(\u001b[49m\u001b[43mmodelling_dfs\u001b[49m\u001b[43m[\u001b[49m\u001b[38;5;124;43m'\u001b[39;49m\u001b[38;5;124;43mmodel_results_gillan_symptom_glmer_pilot_09_07_25\u001b[39;49m\u001b[38;5;124;43m'\u001b[39;49m\u001b[43m]\u001b[49m\u001b[43m)\u001b[49m\n",
      "File \u001b[0;32m~/Library/Mobile Documents/com~apple~CloudDocs/Birkbeck_Job/Data/Online_Study_Overall_Analysis/plots.py:95\u001b[0m, in \u001b[0;36mpoint_plot\u001b[0;34m(participants_df)\u001b[0m\n\u001b[1;32m     92\u001b[0m \u001b[38;5;28;01mdef\u001b[39;00m \u001b[38;5;21mpoint_plot\u001b[39m(participants_df):\n\u001b[1;32m     93\u001b[0m     \u001b[38;5;66;03m# Filter out (Intercept)\u001b[39;00m\n\u001b[1;32m     94\u001b[0m     df_filtered \u001b[38;5;241m=\u001b[39m participants_df[\n\u001b[0;32m---> 95\u001b[0m         \u001b[43mparticipants_df\u001b[49m\u001b[43m[\u001b[49m\u001b[38;5;124;43m\"\u001b[39;49m\u001b[38;5;124;43mPredictor\u001b[39;49m\u001b[38;5;124;43m\"\u001b[39;49m\u001b[43m]\u001b[49m\u001b[38;5;241m.\u001b[39mstr\u001b[38;5;241m.\u001b[39mstrip()\u001b[38;5;241m.\u001b[39mstr\u001b[38;5;241m.\u001b[39mlower() \u001b[38;5;241m!=\u001b[39m \u001b[38;5;124m\"\u001b[39m\u001b[38;5;124m(intercept)\u001b[39m\u001b[38;5;124m\"\u001b[39m\n\u001b[1;32m     96\u001b[0m     ]\n\u001b[1;32m     98\u001b[0m     plt\u001b[38;5;241m.\u001b[39mfigure(figsize\u001b[38;5;241m=\u001b[39m(\u001b[38;5;241m8\u001b[39m, \u001b[38;5;241m6\u001b[39m))\n\u001b[1;32m    100\u001b[0m     \u001b[38;5;66;03m# Plot points using seaborn (for styling)\u001b[39;00m\n",
      "File \u001b[0;32m/opt/anaconda3/envs/TST_Extraction/lib/python3.12/site-packages/pandas/core/frame.py:4102\u001b[0m, in \u001b[0;36mDataFrame.__getitem__\u001b[0;34m(self, key)\u001b[0m\n\u001b[1;32m   4100\u001b[0m \u001b[38;5;28;01mif\u001b[39;00m \u001b[38;5;28mself\u001b[39m\u001b[38;5;241m.\u001b[39mcolumns\u001b[38;5;241m.\u001b[39mnlevels \u001b[38;5;241m>\u001b[39m \u001b[38;5;241m1\u001b[39m:\n\u001b[1;32m   4101\u001b[0m     \u001b[38;5;28;01mreturn\u001b[39;00m \u001b[38;5;28mself\u001b[39m\u001b[38;5;241m.\u001b[39m_getitem_multilevel(key)\n\u001b[0;32m-> 4102\u001b[0m indexer \u001b[38;5;241m=\u001b[39m \u001b[38;5;28;43mself\u001b[39;49m\u001b[38;5;241;43m.\u001b[39;49m\u001b[43mcolumns\u001b[49m\u001b[38;5;241;43m.\u001b[39;49m\u001b[43mget_loc\u001b[49m\u001b[43m(\u001b[49m\u001b[43mkey\u001b[49m\u001b[43m)\u001b[49m\n\u001b[1;32m   4103\u001b[0m \u001b[38;5;28;01mif\u001b[39;00m is_integer(indexer):\n\u001b[1;32m   4104\u001b[0m     indexer \u001b[38;5;241m=\u001b[39m [indexer]\n",
      "File \u001b[0;32m/opt/anaconda3/envs/TST_Extraction/lib/python3.12/site-packages/pandas/core/indexes/base.py:3812\u001b[0m, in \u001b[0;36mIndex.get_loc\u001b[0;34m(self, key)\u001b[0m\n\u001b[1;32m   3807\u001b[0m     \u001b[38;5;28;01mif\u001b[39;00m \u001b[38;5;28misinstance\u001b[39m(casted_key, \u001b[38;5;28mslice\u001b[39m) \u001b[38;5;129;01mor\u001b[39;00m (\n\u001b[1;32m   3808\u001b[0m         \u001b[38;5;28misinstance\u001b[39m(casted_key, abc\u001b[38;5;241m.\u001b[39mIterable)\n\u001b[1;32m   3809\u001b[0m         \u001b[38;5;129;01mand\u001b[39;00m \u001b[38;5;28many\u001b[39m(\u001b[38;5;28misinstance\u001b[39m(x, \u001b[38;5;28mslice\u001b[39m) \u001b[38;5;28;01mfor\u001b[39;00m x \u001b[38;5;129;01min\u001b[39;00m casted_key)\n\u001b[1;32m   3810\u001b[0m     ):\n\u001b[1;32m   3811\u001b[0m         \u001b[38;5;28;01mraise\u001b[39;00m InvalidIndexError(key)\n\u001b[0;32m-> 3812\u001b[0m     \u001b[38;5;28;01mraise\u001b[39;00m \u001b[38;5;167;01mKeyError\u001b[39;00m(key) \u001b[38;5;28;01mfrom\u001b[39;00m \u001b[38;5;21;01merr\u001b[39;00m\n\u001b[1;32m   3813\u001b[0m \u001b[38;5;28;01mexcept\u001b[39;00m \u001b[38;5;167;01mTypeError\u001b[39;00m:\n\u001b[1;32m   3814\u001b[0m     \u001b[38;5;66;03m# If we have a listlike key, _check_indexing_error will raise\u001b[39;00m\n\u001b[1;32m   3815\u001b[0m     \u001b[38;5;66;03m#  InvalidIndexError. Otherwise we fall through and re-raise\u001b[39;00m\n\u001b[1;32m   3816\u001b[0m     \u001b[38;5;66;03m#  the TypeError.\u001b[39;00m\n\u001b[1;32m   3817\u001b[0m     \u001b[38;5;28mself\u001b[39m\u001b[38;5;241m.\u001b[39m_check_indexing_error(key)\n",
      "\u001b[0;31mKeyError\u001b[0m: 'Predictor'"
     ]
    }
   ],
   "source": [
    "point_plot(modelling_dfs['model_results_gillan_symptom_glmer_pilot_09_07_25'])"
   ]
  }
 ],
 "metadata": {
  "kernelspec": {
   "display_name": "TST_Extraction",
   "language": "python",
   "name": "python3"
  },
  "language_info": {
   "codemirror_mode": {
    "name": "ipython",
    "version": 3
   },
   "file_extension": ".py",
   "mimetype": "text/x-python",
   "name": "python",
   "nbconvert_exporter": "python",
   "pygments_lexer": "ipython3",
   "version": "3.12.7"
  }
 },
 "nbformat": 4,
 "nbformat_minor": 5
}
